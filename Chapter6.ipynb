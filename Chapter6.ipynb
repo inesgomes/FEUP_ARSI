{
 "cells": [
  {
   "cell_type": "code",
   "execution_count": 1,
   "metadata": {},
   "outputs": [],
   "source": [
    "#upload data from csv\n",
    "import pandas as pd\n",
    "videosGB = pd.read_csv('OriginalCSVs/GBvideos.csv', sep=',', decimal='.', header=0)\n",
    "#elimina videos duplicados\n",
    "videosGB = videosGB.drop_duplicates('video_id','last',False)\n",
    "#elimina sem categorias (tags)\n",
    "nodes = videosGB[videosGB.tags != '[none]']"
   ]
  },
  {
   "cell_type": "code",
   "execution_count": 4,
   "metadata": {},
   "outputs": [
    {
     "name": "stdout",
     "output_type": "stream",
     "text": [
      "Jimmy Kimmel Live {24, 10, 23}\n",
      "WIRED {24, 17, 2, 28}\n",
      "BBC News {25, 28, 1, 15}\n",
      "The View {24, 25, 29}\n",
      "PewDiePie {24, 25, 23}\n"
     ]
    }
   ],
   "source": [
    "#goal: find 2 channels whose videos share the same category_id\n",
    "\n",
    "#codigo repetido do MAIN\n",
    "channel = dict()\n",
    "\n",
    "for index, node in nodes.iterrows():\n",
    "    channel_name = node['channel_title']\n",
    "    if channel.get(channel_name, None) == None:\n",
    "        channel[channel_name] = set()\n",
    "    channel[channel_name].add(node['category_id'])\n",
    "    \n",
    "for key, value in channel.items():\n",
    "    cs = len(value)\n",
    "    if cs >= 3:\n",
    "        print(key, value)\n",
    "    \n"
   ]
  },
  {
   "cell_type": "code",
   "execution_count": null,
   "metadata": {},
   "outputs": [],
   "source": []
  }
 ],
 "metadata": {
  "kernelspec": {
   "display_name": "Python 3",
   "language": "python",
   "name": "python3"
  },
  "language_info": {
   "codemirror_mode": {
    "name": "ipython",
    "version": 3
   },
   "file_extension": ".py",
   "mimetype": "text/x-python",
   "name": "python",
   "nbconvert_exporter": "python",
   "pygments_lexer": "ipython3",
   "version": "3.6.4"
  }
 },
 "nbformat": 4,
 "nbformat_minor": 2
}
