{
 "cells": [
  {
   "cell_type": "code",
   "execution_count": 8,
   "metadata": {},
   "outputs": [
    {
     "data": {
      "text/plain": [
       "(39549, 16)"
      ]
     },
     "execution_count": 8,
     "metadata": {},
     "output_type": "execute_result"
    }
   ],
   "source": [
    "#upload data from csv\n",
    "import pandas as pd\n",
    "videosGB = pd.read_csv('OriginalCSVs/GBvideos.csv', sep=',', decimal='.', header=0)\n",
    "videosUS = pd.read_csv('OriginalCSVs/USvideos.csv', sep=',', decimal='.', header=0)\n",
    "\n",
    "#concat videos\n",
    "videos = pd.concat([videosGB,videosUS])\n",
    "\n",
    "#GB: 19000 videos\n",
    "#GB+US: 39000 videos\n",
    "videos.shape"
   ]
  },
  {
   "cell_type": "code",
   "execution_count": 9,
   "metadata": {},
   "outputs": [
    {
     "data": {
      "text/plain": [
       "(5320, 16)"
      ]
     },
     "execution_count": 9,
     "metadata": {},
     "output_type": "execute_result"
    }
   ],
   "source": [
    "#elimina videos duplicados\n",
    "videos = videos.drop_duplicates('video_id','last',False)\n",
    "#elimina sem categoria\n",
    "nodes = videos[videos.tags != '[none]']\n",
    "        \n",
    "#cria csv\n",
    "newheader = ['id','trending_date','Label','channel_title','category_id','publish_time','tags','views','likes','dislikes','comment_count','thumbnail_link','comments_disabled','ratings_disabled','video_error_or_removed','description']\n",
    "nodes.to_csv('nodes.csv',header=newheader,index=False)\n",
    "\n",
    "#GB: 2000 nos\n",
    "#GB+US: 5320 nos\n",
    "nodes.shape"
   ]
  },
  {
   "cell_type": "code",
   "execution_count": 10,
   "metadata": {},
   "outputs": [
    {
     "name": "stdout",
     "output_type": "stream",
     "text": [
      "done\n"
     ]
    }
   ],
   "source": [
    "#get tags\n",
    "nodesTemp = nodes.loc[:, ['video_id','tags']]\n",
    "sources = []\n",
    "targets = []\n",
    "\n",
    "#auxiliar vectors that save the indexes to access to the nodes quickly\n",
    "sourcesAux = []\n",
    "targetsAux = []\n",
    "\n",
    "#criar vetor de tags\n",
    "for index, tags in nodesTemp.iterrows():\n",
    "    tags['tags'] = tags['tags'].split('\"|\"')  \n",
    "    #compor a ultima tag\n",
    "    size = len(tags['tags'])\n",
    "    last = tags['tags'][size-1]\n",
    "    tags['tags'][size-1] = last.split('\"')[0]\n",
    "    #compor a primeira tag\n",
    "    tag1 = tags['tags'][0].split('|\"')\n",
    "    tags['tags'][0] = tag1[0]\n",
    "    if len(tag1) == 2:\n",
    "        tags['tags'].append(tag1[1])\n",
    "        \n",
    "print(\"done\")        "
   ]
  },
  {
   "cell_type": "code",
   "execution_count": 11,
   "metadata": {},
   "outputs": [
    {
     "name": "stdout",
     "output_type": "stream",
     "text": [
      "done\n"
     ]
    }
   ],
   "source": [
    "def comparelists( id1, list1, index1, id2, list2, index2 ):\n",
    "    for x1 in list1:\n",
    "        for x2 in list2:\n",
    "            if x1 == x2:\n",
    "                sources.append(id1)\n",
    "                sourcesAux.append(index1)\n",
    "                targets.append(id2)\n",
    "                targetsAux.append(index2)\n",
    "                return\n",
    "         \n",
    "#para cada node vamos procurar todos aqueles que tem a mesma tag    \n",
    "for i1, tags1 in nodesTemp.iterrows(): \n",
    "    for i2, tags2 in nodesTemp.iterrows(): \n",
    "        #compara com os seguintes se existir tags\n",
    "        if i2 > i1: \n",
    "            #verificar se existe alguma tag igual\n",
    "            comparelists(tags1['video_id'],tags1['tags'],i1,tags2['video_id'],tags2['tags'],i2)\n",
    "\n",
    "print(\"done\")"
   ]
  },
  {
   "cell_type": "code",
   "execution_count": 12,
   "metadata": {},
   "outputs": [
    {
     "data": {
      "text/plain": [
       "(574128, 3)"
      ]
     },
     "execution_count": 12,
     "metadata": {},
     "output_type": "execute_result"
    }
   ],
   "source": [
    "#create dataframe            \n",
    "df = {'Source' : sources, 'Target' : targets}   \n",
    "edges = pd.DataFrame(df)\n",
    "edges['Type'] = 'Undirected'\n",
    "edges.to_csv('edges.csv',index=False)\n",
    "\n",
    "#create auxiliary dataframe\n",
    "dfAux = {'Source' : sourcesAux, 'Target' : targetsAux}   \n",
    "edgesAux = pd.DataFrame(dfAux)\n",
    "\n",
    "#GB: 86000 edges\n",
    "#GB+US: 574000 edges\n",
    "edges.shape"
   ]
  },
  {
   "cell_type": "code",
   "execution_count": 13,
   "metadata": {},
   "outputs": [
    {
     "name": "stdout",
     "output_type": "stream",
     "text": [
      "done\n"
     ]
    }
   ],
   "source": [
    "#criar edges com pesos de acordo com o numero de tags em comum\n",
    "weights = []\n",
    "def getweights( ite, list1, list2 ):\n",
    "    w = 0\n",
    "    for x1 in list1:\n",
    "        for x2 in list2:\n",
    "            if x1 == x2:\n",
    "                w += 1\n",
    "                break\n",
    "    weights.append(w)\n",
    "\n",
    "    \n",
    "#source and target iterator\n",
    "for e1, edge in edgesAux.iterrows(): \n",
    "    list1 = nodesTemp['tags'][edge['Source']]\n",
    "    list2 = nodesTemp['tags'][edge['Target']]\n",
    "    getweights(e1, list1, list2)\n",
    "    \n",
    "print(\"done\")"
   ]
  },
  {
   "cell_type": "code",
   "execution_count": 14,
   "metadata": {},
   "outputs": [
    {
     "data": {
      "text/plain": [
       "(351498, 4)"
      ]
     },
     "execution_count": 14,
     "metadata": {},
     "output_type": "execute_result"
    }
   ],
   "source": [
    "edgesWeight = edges\n",
    "edgesWeight['Weight'] = weights\n",
    "edgesWeight.to_csv('edgesWeightned.csv',index=False)\n",
    "\n",
    "#remover todos os edges com peso = 1\n",
    "#GB: 24000 edges\n",
    "#GB+US: 351498 edges\n",
    "edgesWeight1 = edgesWeight[edgesWeight.Weight != 1]\n",
    "edgesWeight1.to_csv('edgesWeightned1.csv',index=False)\n",
    "edgesWeight1.shape"
   ]
  },
  {
   "cell_type": "code",
   "execution_count": null,
   "metadata": {},
   "outputs": [],
   "source": []
  }
 ],
 "metadata": {
  "kernelspec": {
   "display_name": "Python 3",
   "language": "python",
   "name": "python3"
  },
  "language_info": {
   "codemirror_mode": {
    "name": "ipython",
    "version": 3
   },
   "file_extension": ".py",
   "mimetype": "text/x-python",
   "name": "python",
   "nbconvert_exporter": "python",
   "pygments_lexer": "ipython3",
   "version": "3.6.4"
  }
 },
 "nbformat": 4,
 "nbformat_minor": 2
}
