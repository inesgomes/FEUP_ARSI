{
 "cells": [
  {
   "cell_type": "markdown",
   "metadata": {},
   "source": [
    "This notebook was created in the context of 'Chapter 6 - Game Theory'.\n",
    "\n",
    "We'll only use the GB dataset.\n",
    "\n",
    "Goal: find 2 channels whose videos share the same category_id"
   ]
  },
  {
   "cell_type": "code",
   "execution_count": 1,
   "metadata": {},
   "outputs": [
    {
     "name": "stdout",
     "output_type": "stream",
     "text": [
      "Nodes uploaded ...\n"
     ]
    }
   ],
   "source": [
    "#upload data from csv\n",
    "import pandas as pd\n",
    "\n",
    "#upload nodes\n",
    "nodes = pd.read_csv('../CreatedCSVs/nodesGB.csv', sep=',', decimal='.', header=0)\n",
    "print(\"Nodes uploaded ...\")"
   ]
  },
  {
   "cell_type": "code",
   "execution_count": 2,
   "metadata": {},
   "outputs": [
    {
     "name": "stdout",
     "output_type": "stream",
     "text": [
      "Jimmy Kimmel Live {24.0, 10.0, 23.0}\n",
      "nan {nan, nan, nan, nan, nan, nan, nan, nan, nan, nan, nan, nan, nan, nan, nan, nan, nan, nan, nan, nan, nan, nan, nan, nan, nan, nan, nan, nan, nan, nan, nan, nan, nan, nan, nan, nan, nan, nan, nan, nan, nan, nan, nan, nan, nan}\n",
      "WIRED {24.0, 17.0, 2.0, 28.0}\n",
      "INSIDER {24.0, 28.0, 15.0}\n",
      "BBC News {25.0, 28.0, 1.0, 15.0}\n",
      "Entertainment Tonight {24.0, 10.0, 22.0}\n",
      "The View {24.0, 25.0, 29.0}\n",
      "PewDiePie {24.0, 25.0, 23.0}\n"
     ]
    }
   ],
   "source": [
    "channel = dict()\n",
    "\n",
    "for index, node in nodes.iterrows():\n",
    "    channel_name = node['channel_title']\n",
    "    if channel.get(channel_name, None) == None:\n",
    "        channel[channel_name] = set()\n",
    "    channel[channel_name].add(node['category_id'])\n",
    "    \n",
    "for key, value in channel.items():\n",
    "    cs = len(value)\n",
    "    if cs >= 3:\n",
    "        print(key, value)\n",
    "    \n"
   ]
  }
 ],
 "metadata": {
  "kernelspec": {
   "display_name": "Python 3",
   "language": "python",
   "name": "python3"
  },
  "language_info": {
   "codemirror_mode": {
    "name": "ipython",
    "version": 3
   },
   "file_extension": ".py",
   "mimetype": "text/x-python",
   "name": "python",
   "nbconvert_exporter": "python",
   "pygments_lexer": "ipython3",
   "version": "3.6.4"
  }
 },
 "nbformat": 4,
 "nbformat_minor": 2
}
