{
 "cells": [
  {
   "cell_type": "markdown",
   "metadata": {},
   "source": [
    "This notebook has as the main goal to create CSV's ready to be imported at Gephi.\n",
    "\n",
    "I think that GB (Great-Britain), US (United States) and CA (Canada) may have the most relatable popular videos, so it is possible to create CSV's with the GB dataset only, GB+US or GB+US+CA.\n",
    "\n",
    "Change the 'country' global variable to 'GB', 'GBUS' or 'GBUSCA' to chose the dataset. Then click '>>' to run the noteboook. \n",
    "\n",
    "Attention: some algorithms may take some time"
   ]
  },
  {
   "cell_type": "code",
   "execution_count": 2,
   "metadata": {},
   "outputs": [],
   "source": [
    "import pandas as pd\n",
    "#options : GB, GBUS, GBUSCA\n",
    "country = \"GBUS\";"
   ]
  },
  {
   "cell_type": "markdown",
   "metadata": {},
   "source": [
    "### First : original videos\n",
    "\n",
    "Upload raw data from the original CSV's."
   ]
  },
  {
   "cell_type": "code",
   "execution_count": 2,
   "metadata": {},
   "outputs": [
    {
     "data": {
      "text/plain": [
       "(34297, 16)"
      ]
     },
     "execution_count": 2,
     "metadata": {},
     "output_type": "execute_result"
    }
   ],
   "source": [
    "#upload data from csv\n",
    "videosGB = pd.read_csv('../OriginalCSVs/GBvideos.csv', sep=',', decimal='.', header=0)\n",
    "videosUS = pd.read_csv('../OriginalCSVs/USvideos.csv', sep=',', decimal='.', header=0)\n",
    "videosCA = pd.read_csv('../OriginalCSVs/CAvideos.csv', sep=',', decimal='.', header=0)\n",
    "\n",
    "#concat videos\n",
    "if country == 'GB':\n",
    "    videos = videosGB\n",
    "elif country == 'GBUS':\n",
    "    videos = pd.concat([videosGB, videosUS])\n",
    "elif country == 'GBUSCA':\n",
    "    videos = pd.concat([videosGB, videosUS, videosCA])\n",
    "    \n",
    "#process the dates\n",
    "videos['trending_date'] = pd.to_datetime(videos['trending_date'], format='%y.%d.%m')\n",
    "videos['publish_time'] = pd.to_datetime(videos['publish_time'], format='%Y-%m-%dT%H:%M:%S.%fZ')\n",
    "    \n",
    "#GB: 34297 videos\n",
    "#GB+US: 69646 videos\n",
    "#GB+US+CA: 104929 videos\n",
    "videos.shape"
   ]
  },
  {
   "cell_type": "markdown",
   "metadata": {},
   "source": [
    "### Second : no duplicated videos\n",
    "\n",
    "Now, we want to create a graph with all videos, but some videos are popular multiple consecutive days. So the idea is to remove duplicates keeping the last popular day so that we can keep the most accurate statistics of the videos."
   ]
  },
  {
   "cell_type": "code",
   "execution_count": 3,
   "metadata": {},
   "outputs": [
    {
     "name": "stdout",
     "output_type": "stream",
     "text": [
      "(2847, 10)\n"
     ]
    },
    {
     "data": {
      "text/html": [
       "<div>\n",
       "<style scoped>\n",
       "    .dataframe tbody tr th:only-of-type {\n",
       "        vertical-align: middle;\n",
       "    }\n",
       "\n",
       "    .dataframe tbody tr th {\n",
       "        vertical-align: top;\n",
       "    }\n",
       "\n",
       "    .dataframe thead th {\n",
       "        text-align: right;\n",
       "    }\n",
       "</style>\n",
       "<table border=\"1\" class=\"dataframe\">\n",
       "  <thead>\n",
       "    <tr style=\"text-align: right;\">\n",
       "      <th></th>\n",
       "      <th>video_id</th>\n",
       "      <th>title</th>\n",
       "      <th>channel_title</th>\n",
       "      <th>category_id</th>\n",
       "      <th>trending_date</th>\n",
       "      <th>publish_time</th>\n",
       "      <th>views</th>\n",
       "      <th>likes</th>\n",
       "      <th>dislikes</th>\n",
       "      <th>comment_count</th>\n",
       "    </tr>\n",
       "  </thead>\n",
       "  <tbody>\n",
       "    <tr>\n",
       "      <th>5</th>\n",
       "      <td>AumaWl0TNBo</td>\n",
       "      <td>How My Relationship Started!</td>\n",
       "      <td>PointlessBlogVlogs</td>\n",
       "      <td>24</td>\n",
       "      <td>2017-11-14</td>\n",
       "      <td>2017-11-11 17:00:00</td>\n",
       "      <td>1182775</td>\n",
       "      <td>52708</td>\n",
       "      <td>1431</td>\n",
       "      <td>2333</td>\n",
       "    </tr>\n",
       "    <tr>\n",
       "      <th>7</th>\n",
       "      <td>-N5eucPMTTc</td>\n",
       "      <td>CHRISTMAS HAS GONE TO MY HEAD</td>\n",
       "      <td>MoreZoella</td>\n",
       "      <td>22</td>\n",
       "      <td>2017-11-14</td>\n",
       "      <td>2017-11-10 19:19:43</td>\n",
       "      <td>1164201</td>\n",
       "      <td>57309</td>\n",
       "      <td>749</td>\n",
       "      <td>624</td>\n",
       "    </tr>\n",
       "    <tr>\n",
       "      <th>22</th>\n",
       "      <td>fiusxyygqGk</td>\n",
       "      <td>Marshmello - You &amp; Me (Official Music Video)</td>\n",
       "      <td>marshmello</td>\n",
       "      <td>10</td>\n",
       "      <td>2017-11-14</td>\n",
       "      <td>2017-11-10 15:00:03</td>\n",
       "      <td>3407008</td>\n",
       "      <td>207262</td>\n",
       "      <td>3167</td>\n",
       "      <td>13279</td>\n",
       "    </tr>\n",
       "    <tr>\n",
       "      <th>90</th>\n",
       "      <td>sLJdBmAeB_U</td>\n",
       "      <td>COME SHOPPING WITH ME AND TRY ON NEW CLOTHING ...</td>\n",
       "      <td>Inthefrow</td>\n",
       "      <td>26</td>\n",
       "      <td>2017-11-14</td>\n",
       "      <td>2017-11-07 19:00:50</td>\n",
       "      <td>87772</td>\n",
       "      <td>2617</td>\n",
       "      <td>86</td>\n",
       "      <td>192</td>\n",
       "    </tr>\n",
       "    <tr>\n",
       "      <th>92</th>\n",
       "      <td>mCx26FLXWuI</td>\n",
       "      <td>Seth Rollins &amp; Dean Ambrose vs. Cesaro &amp; Sheam...</td>\n",
       "      <td>WWE</td>\n",
       "      <td>17</td>\n",
       "      <td>2017-11-14</td>\n",
       "      <td>2017-11-07 04:52:25</td>\n",
       "      <td>1689382</td>\n",
       "      <td>24186</td>\n",
       "      <td>3330</td>\n",
       "      <td>3414</td>\n",
       "    </tr>\n",
       "  </tbody>\n",
       "</table>\n",
       "</div>"
      ],
      "text/plain": [
       "       video_id                                              title  \\\n",
       "5   AumaWl0TNBo                       How My Relationship Started!   \n",
       "7   -N5eucPMTTc                      CHRISTMAS HAS GONE TO MY HEAD   \n",
       "22  fiusxyygqGk       Marshmello - You & Me (Official Music Video)   \n",
       "90  sLJdBmAeB_U  COME SHOPPING WITH ME AND TRY ON NEW CLOTHING ...   \n",
       "92  mCx26FLXWuI  Seth Rollins & Dean Ambrose vs. Cesaro & Sheam...   \n",
       "\n",
       "         channel_title  category_id trending_date        publish_time  \\\n",
       "5   PointlessBlogVlogs           24    2017-11-14 2017-11-11 17:00:00   \n",
       "7           MoreZoella           22    2017-11-14 2017-11-10 19:19:43   \n",
       "22          marshmello           10    2017-11-14 2017-11-10 15:00:03   \n",
       "90           Inthefrow           26    2017-11-14 2017-11-07 19:00:50   \n",
       "92                 WWE           17    2017-11-14 2017-11-07 04:52:25   \n",
       "\n",
       "      views   likes  dislikes  comment_count  \n",
       "5   1182775   52708      1431           2333  \n",
       "7   1164201   57309       749            624  \n",
       "22  3407008  207262      3167          13279  \n",
       "90    87772    2617        86            192  \n",
       "92  1689382   24186      3330           3414  "
      ]
     },
     "execution_count": 3,
     "metadata": {},
     "output_type": "execute_result"
    }
   ],
   "source": [
    "#elimina videos duplicados\n",
    "videos = videos.drop_duplicates('video_id','last',False)\n",
    "#elimina sem categorias (tags)\n",
    "videosNone = videos[videos.tags != '[none]']\n",
    "#elimina estatisticas que nao nos interessa\n",
    "nodes = videosNone.loc[:, ['video_id','title','channel_title','category_id','trending_date','publish_time','views','likes','dislikes','comment_count',]]\n",
    "\n",
    "#cria csv\n",
    "newheader = ['id','Label','channel_title','category_id','trending_date','publish_time','views','likes','dislikes','comment_count']\n",
    "nodes.to_csv('../CreatedCSVs/nodes'+country+'.csv',header=newheader,index=False)\n",
    "\n",
    "#GB: 2847 nos\n",
    "#GB+US: 7630 nos\n",
    "#GB+US+CA: 24827 nos\n",
    "print(nodes.shape)\n",
    "\n",
    "nodes.head()"
   ]
  },
  {
   "cell_type": "markdown",
   "metadata": {},
   "source": [
    "### Third : tags\n",
    "\n",
    "Transform the string of tags ' tag1 \"|\" tag2 \"|\" ... ' in an array of tags, for each video (dataset row)"
   ]
  },
  {
   "cell_type": "code",
   "execution_count": 4,
   "metadata": {},
   "outputs": [
    {
     "data": {
      "text/html": [
       "<div>\n",
       "<style scoped>\n",
       "    .dataframe tbody tr th:only-of-type {\n",
       "        vertical-align: middle;\n",
       "    }\n",
       "\n",
       "    .dataframe tbody tr th {\n",
       "        vertical-align: top;\n",
       "    }\n",
       "\n",
       "    .dataframe thead th {\n",
       "        text-align: right;\n",
       "    }\n",
       "</style>\n",
       "<table border=\"1\" class=\"dataframe\">\n",
       "  <thead>\n",
       "    <tr style=\"text-align: right;\">\n",
       "      <th></th>\n",
       "      <th>video_id</th>\n",
       "      <th>tags</th>\n",
       "      <th>channel_title</th>\n",
       "    </tr>\n",
       "  </thead>\n",
       "  <tbody>\n",
       "    <tr>\n",
       "      <th>5</th>\n",
       "      <td>AumaWl0TNBo</td>\n",
       "      <td>[pointlessblog, pointlessblogvlogs, games, gam...</td>\n",
       "      <td>PointlessBlogVlogs</td>\n",
       "    </tr>\n",
       "    <tr>\n",
       "      <th>7</th>\n",
       "      <td>-N5eucPMTTc</td>\n",
       "      <td>[zoe sugg, zoe, vlog, vlogging, vlogs, daily, ...</td>\n",
       "      <td>MoreZoella</td>\n",
       "    </tr>\n",
       "    <tr>\n",
       "      <th>22</th>\n",
       "      <td>fiusxyygqGk</td>\n",
       "      <td>[selena gomez wolves, marshmello - alone, mars...</td>\n",
       "      <td>marshmello</td>\n",
       "    </tr>\n",
       "    <tr>\n",
       "      <th>90</th>\n",
       "      <td>sLJdBmAeB_U</td>\n",
       "      <td>[Inthefrow, COME SHOPPING WITH ME, LUXURY BEAU...</td>\n",
       "      <td>Inthefrow</td>\n",
       "    </tr>\n",
       "    <tr>\n",
       "      <th>92</th>\n",
       "      <td>mCx26FLXWuI</td>\n",
       "      <td>[wwe, wrestling, wrestler, wrestle, superstars...</td>\n",
       "      <td>WWE</td>\n",
       "    </tr>\n",
       "  </tbody>\n",
       "</table>\n",
       "</div>"
      ],
      "text/plain": [
       "       video_id                                               tags  \\\n",
       "5   AumaWl0TNBo  [pointlessblog, pointlessblogvlogs, games, gam...   \n",
       "7   -N5eucPMTTc  [zoe sugg, zoe, vlog, vlogging, vlogs, daily, ...   \n",
       "22  fiusxyygqGk  [selena gomez wolves, marshmello - alone, mars...   \n",
       "90  sLJdBmAeB_U  [Inthefrow, COME SHOPPING WITH ME, LUXURY BEAU...   \n",
       "92  mCx26FLXWuI  [wwe, wrestling, wrestler, wrestle, superstars...   \n",
       "\n",
       "         channel_title  \n",
       "5   PointlessBlogVlogs  \n",
       "7           MoreZoella  \n",
       "22          marshmello  \n",
       "90           Inthefrow  \n",
       "92                 WWE  "
      ]
     },
     "execution_count": 4,
     "metadata": {},
     "output_type": "execute_result"
    }
   ],
   "source": [
    "#get tags\n",
    "nodesTemp = videosNone.loc[:, ['video_id','tags','channel_title']]\n",
    "\n",
    "#criar vetor de tags\n",
    "for index, tags in nodesTemp.iterrows():\n",
    "    tags['tags'] = tags['tags'].split('\"|\"')  \n",
    "    #compor a ultima tag\n",
    "    size = len(tags['tags'])\n",
    "    last = tags['tags'][size-1]\n",
    "    tags['tags'][size-1] = last.split('\"')[0]\n",
    "    #compor a primeira tag\n",
    "    tag1 = tags['tags'][0].split('|\"')\n",
    "    tags['tags'][0] = tag1[0]\n",
    "    if len(tag1) == 2:\n",
    "        tags['tags'].append(tag1[1])\n",
    "    \n",
    "#save this tags so that I can use this file at other files\n",
    "#GB: tagsGB\n",
    "#GB+US: tagsGBUS\n",
    "#GB+US+CA: tagsGBUSCA\n",
    "nodesTemp.to_csv('../CreatedCSVs/tags'+country+'.csv',header=['id','tags','channel'],index=False)\n",
    "\n",
    "nodesTemp.head()"
   ]
  },
  {
   "cell_type": "markdown",
   "metadata": {},
   "source": [
    "### Forth : edges\n",
    "\n",
    "Now we'll create the edges CSV. First, we need to know which nodes have common tags. Then, we can create the dataset and save it."
   ]
  },
  {
   "cell_type": "code",
   "execution_count": 5,
   "metadata": {},
   "outputs": [
    {
     "name": "stdout",
     "output_type": "stream",
     "text": [
      "done\n"
     ]
    }
   ],
   "source": [
    "weights = []\n",
    "sources = []\n",
    "targets = []\n",
    "tags = []\n",
    "\n",
    "def comparelists( id1, list1, id2, list2 ):\n",
    "    intersect = set(list1).intersection(list2)\n",
    "    w = len(intersect)\n",
    "    if w > 0:\n",
    "        tags.append(list(intersect))\n",
    "        weights.append(w)\n",
    "        sources.append(id1)\n",
    "        targets.append(id2)\n",
    "            \n",
    "#for each node we'll search all nodes that have at least one similar tag    \n",
    "for i1, tags1 in nodesTemp.iterrows(): \n",
    "    for i2, tags2 in nodesTemp.iterrows(): \n",
    "        #compara com os seguintes se existir tags\n",
    "        if i2 > i1: \n",
    "            #verificar se existe alguma tag igual\n",
    "            comparelists(tags1['video_id'],tags1['tags'],tags2['video_id'],tags2['tags'])\n",
    "\n",
    "print(\"done\")"
   ]
  },
  {
   "cell_type": "code",
   "execution_count": 6,
   "metadata": {},
   "outputs": [
    {
     "name": "stdout",
     "output_type": "stream",
     "text": [
      "(194178, 3)\n"
     ]
    },
    {
     "data": {
      "text/html": [
       "<div>\n",
       "<style scoped>\n",
       "    .dataframe tbody tr th:only-of-type {\n",
       "        vertical-align: middle;\n",
       "    }\n",
       "\n",
       "    .dataframe tbody tr th {\n",
       "        vertical-align: top;\n",
       "    }\n",
       "\n",
       "    .dataframe thead th {\n",
       "        text-align: right;\n",
       "    }\n",
       "</style>\n",
       "<table border=\"1\" class=\"dataframe\">\n",
       "  <thead>\n",
       "    <tr style=\"text-align: right;\">\n",
       "      <th></th>\n",
       "      <th>Source</th>\n",
       "      <th>Target</th>\n",
       "      <th>Type</th>\n",
       "    </tr>\n",
       "  </thead>\n",
       "  <tbody>\n",
       "    <tr>\n",
       "      <th>0</th>\n",
       "      <td>AumaWl0TNBo</td>\n",
       "      <td>-N5eucPMTTc</td>\n",
       "      <td>Undirected</td>\n",
       "    </tr>\n",
       "    <tr>\n",
       "      <th>1</th>\n",
       "      <td>AumaWl0TNBo</td>\n",
       "      <td>sLJdBmAeB_U</td>\n",
       "      <td>Undirected</td>\n",
       "    </tr>\n",
       "    <tr>\n",
       "      <th>2</th>\n",
       "      <td>AumaWl0TNBo</td>\n",
       "      <td>iDXlWTRyxgE</td>\n",
       "      <td>Undirected</td>\n",
       "    </tr>\n",
       "    <tr>\n",
       "      <th>3</th>\n",
       "      <td>AumaWl0TNBo</td>\n",
       "      <td>FmYMq9EHhdE</td>\n",
       "      <td>Undirected</td>\n",
       "    </tr>\n",
       "    <tr>\n",
       "      <th>4</th>\n",
       "      <td>AumaWl0TNBo</td>\n",
       "      <td>tSjvx_c4meE</td>\n",
       "      <td>Undirected</td>\n",
       "    </tr>\n",
       "  </tbody>\n",
       "</table>\n",
       "</div>"
      ],
      "text/plain": [
       "        Source       Target        Type\n",
       "0  AumaWl0TNBo  -N5eucPMTTc  Undirected\n",
       "1  AumaWl0TNBo  sLJdBmAeB_U  Undirected\n",
       "2  AumaWl0TNBo  iDXlWTRyxgE  Undirected\n",
       "3  AumaWl0TNBo  FmYMq9EHhdE  Undirected\n",
       "4  AumaWl0TNBo  tSjvx_c4meE  Undirected"
      ]
     },
     "execution_count": 6,
     "metadata": {},
     "output_type": "execute_result"
    }
   ],
   "source": [
    "#create dataframe            \n",
    "df = {'Source' : sources, 'Target' : targets}   \n",
    "edges = pd.DataFrame(df)\n",
    "edges['Type'] = 'Undirected'\n",
    "edges.to_csv('../CreatedCSVs/edges'+country+'.csv',index=False)\n",
    "\n",
    "#GB: 194178 edges\n",
    "#GB+US:\n",
    "#GB+US+CA: \n",
    "print(edges.shape)\n",
    "\n",
    "edges.head()"
   ]
  },
  {
   "cell_type": "markdown",
   "metadata": {},
   "source": [
    "### Fifth : weightned edges\n",
    "\n",
    "we used the sourcesAux and TargetAux so that we can now count the number of tags that each 2 videos have in common."
   ]
  },
  {
   "cell_type": "code",
   "execution_count": 7,
   "metadata": {},
   "outputs": [
    {
     "data": {
      "text/html": [
       "<div>\n",
       "<style scoped>\n",
       "    .dataframe tbody tr th:only-of-type {\n",
       "        vertical-align: middle;\n",
       "    }\n",
       "\n",
       "    .dataframe tbody tr th {\n",
       "        vertical-align: top;\n",
       "    }\n",
       "\n",
       "    .dataframe thead th {\n",
       "        text-align: right;\n",
       "    }\n",
       "</style>\n",
       "<table border=\"1\" class=\"dataframe\">\n",
       "  <thead>\n",
       "    <tr style=\"text-align: right;\">\n",
       "      <th></th>\n",
       "      <th>Source</th>\n",
       "      <th>Target</th>\n",
       "      <th>Type</th>\n",
       "      <th>Weight</th>\n",
       "      <th>Tags</th>\n",
       "    </tr>\n",
       "  </thead>\n",
       "  <tbody>\n",
       "    <tr>\n",
       "      <th>0</th>\n",
       "      <td>AumaWl0TNBo</td>\n",
       "      <td>-N5eucPMTTc</td>\n",
       "      <td>Undirected</td>\n",
       "      <td>8</td>\n",
       "      <td>[zoella, british, puppy, zoe, daily, nala, poi...</td>\n",
       "    </tr>\n",
       "    <tr>\n",
       "      <th>1</th>\n",
       "      <td>AumaWl0TNBo</td>\n",
       "      <td>sLJdBmAeB_U</td>\n",
       "      <td>Undirected</td>\n",
       "      <td>1</td>\n",
       "      <td>[vlog]</td>\n",
       "    </tr>\n",
       "    <tr>\n",
       "      <th>2</th>\n",
       "      <td>AumaWl0TNBo</td>\n",
       "      <td>iDXlWTRyxgE</td>\n",
       "      <td>Undirected</td>\n",
       "      <td>1</td>\n",
       "      <td>[funny]</td>\n",
       "    </tr>\n",
       "    <tr>\n",
       "      <th>3</th>\n",
       "      <td>AumaWl0TNBo</td>\n",
       "      <td>FmYMq9EHhdE</td>\n",
       "      <td>Undirected</td>\n",
       "      <td>2</td>\n",
       "      <td>[first, vlog]</td>\n",
       "    </tr>\n",
       "    <tr>\n",
       "      <th>4</th>\n",
       "      <td>AumaWl0TNBo</td>\n",
       "      <td>tSjvx_c4meE</td>\n",
       "      <td>Undirected</td>\n",
       "      <td>1</td>\n",
       "      <td>[vlog]</td>\n",
       "    </tr>\n",
       "  </tbody>\n",
       "</table>\n",
       "</div>"
      ],
      "text/plain": [
       "        Source       Target        Type  Weight  \\\n",
       "0  AumaWl0TNBo  -N5eucPMTTc  Undirected       8   \n",
       "1  AumaWl0TNBo  sLJdBmAeB_U  Undirected       1   \n",
       "2  AumaWl0TNBo  iDXlWTRyxgE  Undirected       1   \n",
       "3  AumaWl0TNBo  FmYMq9EHhdE  Undirected       2   \n",
       "4  AumaWl0TNBo  tSjvx_c4meE  Undirected       1   \n",
       "\n",
       "                                                Tags  \n",
       "0  [zoella, british, puppy, zoe, daily, nala, poi...  \n",
       "1                                             [vlog]  \n",
       "2                                            [funny]  \n",
       "3                                      [first, vlog]  \n",
       "4                                             [vlog]  "
      ]
     },
     "execution_count": 7,
     "metadata": {},
     "output_type": "execute_result"
    }
   ],
   "source": [
    "edgesWeight = edges\n",
    "edgesWeight['Weight'] = weights\n",
    "edgesWeight['Tags'] = tags\n",
    "edgesWeight.to_csv('../CreatedCSVs/edgesWeightned'+country+'.csv',index=False)\n",
    "\n",
    "edgesWeight.head()"
   ]
  },
  {
   "cell_type": "code",
   "execution_count": 3,
   "metadata": {},
   "outputs": [
    {
     "data": {
      "text/plain": [
       "count    1.254112e+06\n",
       "mean     1.854477e+00\n",
       "std      2.907944e+00\n",
       "min      1.000000e+00\n",
       "25%      1.000000e+00\n",
       "50%      1.000000e+00\n",
       "75%      2.000000e+00\n",
       "max      5.700000e+01\n",
       "Name: Weight, dtype: float64"
      ]
     },
     "execution_count": 3,
     "metadata": {},
     "output_type": "execute_result"
    }
   ],
   "source": [
    "edgesWeight = pd.read_csv('../CreatedCSVs/edgesWeightned'+country+'.csv', sep=',', decimal='.', header=0)\n",
    "edgesWeight.Weight.describe()"
   ]
  }
 ],
 "metadata": {
  "kernelspec": {
   "display_name": "Python 3",
   "language": "python",
   "name": "python3"
  },
  "language_info": {
   "codemirror_mode": {
    "name": "ipython",
    "version": 3
   },
   "file_extension": ".py",
   "mimetype": "text/x-python",
   "name": "python",
   "nbconvert_exporter": "python",
   "pygments_lexer": "ipython3",
   "version": "3.6.4"
  }
 },
 "nbformat": 4,
 "nbformat_minor": 2
}
