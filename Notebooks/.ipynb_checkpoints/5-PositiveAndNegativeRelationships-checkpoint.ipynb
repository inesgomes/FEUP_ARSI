{
 "cells": [
  {
   "cell_type": "markdown",
   "metadata": {},
   "source": [
    "This notebook was created in the context of 'Chapter 5 - Positive and negative relationships'. \n",
    "The goal is to generate a complete graph (all-to-all nodes) where positive nodes are the one that already have a tag connecting them, and the negative nodes are the ones that generate new connections.\n",
    "\n",
    "We'll only use the GB dataset.\n",
    "\n",
    "We'll also use just the first 1000 nodes so that the graph will not be so heavy."
   ]
  },
  {
   "cell_type": "code",
   "execution_count": 1,
   "metadata": {},
   "outputs": [
    {
     "data": {
      "text/html": [
       "<div>\n",
       "<style scoped>\n",
       "    .dataframe tbody tr th:only-of-type {\n",
       "        vertical-align: middle;\n",
       "    }\n",
       "\n",
       "    .dataframe tbody tr th {\n",
       "        vertical-align: top;\n",
       "    }\n",
       "\n",
       "    .dataframe thead th {\n",
       "        text-align: right;\n",
       "    }\n",
       "</style>\n",
       "<table border=\"1\" class=\"dataframe\">\n",
       "  <thead>\n",
       "    <tr style=\"text-align: right;\">\n",
       "      <th></th>\n",
       "      <th>id</th>\n",
       "      <th>tags</th>\n",
       "      <th>channel</th>\n",
       "    </tr>\n",
       "  </thead>\n",
       "  <tbody>\n",
       "    <tr>\n",
       "      <th>0</th>\n",
       "      <td>AumaWl0TNBo</td>\n",
       "      <td>['pointlessblog', 'pointlessblogvlogs', 'games...</td>\n",
       "      <td>PointlessBlogVlogs</td>\n",
       "    </tr>\n",
       "    <tr>\n",
       "      <th>1</th>\n",
       "      <td>-N5eucPMTTc</td>\n",
       "      <td>['zoe sugg', 'zoe', 'vlog', 'vlogging', 'vlogs...</td>\n",
       "      <td>MoreZoella</td>\n",
       "    </tr>\n",
       "    <tr>\n",
       "      <th>2</th>\n",
       "      <td>fiusxyygqGk</td>\n",
       "      <td>['selena gomez wolves', 'marshmello - alone', ...</td>\n",
       "      <td>marshmello</td>\n",
       "    </tr>\n",
       "    <tr>\n",
       "      <th>3</th>\n",
       "      <td>sLJdBmAeB_U</td>\n",
       "      <td>['Inthefrow', 'COME SHOPPING WITH ME', 'LUXURY...</td>\n",
       "      <td>Inthefrow</td>\n",
       "    </tr>\n",
       "    <tr>\n",
       "      <th>4</th>\n",
       "      <td>mCx26FLXWuI</td>\n",
       "      <td>['wwe', 'wrestling', 'wrestler', 'wrestle', 's...</td>\n",
       "      <td>WWE</td>\n",
       "    </tr>\n",
       "  </tbody>\n",
       "</table>\n",
       "</div>"
      ],
      "text/plain": [
       "            id                                               tags  \\\n",
       "0  AumaWl0TNBo  ['pointlessblog', 'pointlessblogvlogs', 'games...   \n",
       "1  -N5eucPMTTc  ['zoe sugg', 'zoe', 'vlog', 'vlogging', 'vlogs...   \n",
       "2  fiusxyygqGk  ['selena gomez wolves', 'marshmello - alone', ...   \n",
       "3  sLJdBmAeB_U  ['Inthefrow', 'COME SHOPPING WITH ME', 'LUXURY...   \n",
       "4  mCx26FLXWuI  ['wwe', 'wrestling', 'wrestler', 'wrestle', 's...   \n",
       "\n",
       "              channel  \n",
       "0  PointlessBlogVlogs  \n",
       "1          MoreZoella  \n",
       "2          marshmello  \n",
       "3           Inthefrow  \n",
       "4                 WWE  "
      ]
     },
     "execution_count": 1,
     "metadata": {},
     "output_type": "execute_result"
    }
   ],
   "source": [
    "import pandas as pd\n",
    "\n",
    "tags = pd.read_csv('../CreatedCSVs/tagsGB.csv', sep=',', decimal='.', header=0)\n",
    "tags.head()"
   ]
  },
  {
   "cell_type": "code",
   "execution_count": 2,
   "metadata": {},
   "outputs": [
    {
     "data": {
      "text/plain": [
       "(499500, 4)"
      ]
     },
     "execution_count": 2,
     "metadata": {},
     "output_type": "execute_result"
    }
   ],
   "source": [
    "sourcesC = []\n",
    "targetsC = []\n",
    "labelsC = []\n",
    "\n",
    "#half of nodes vs total nodes\n",
    "nodes = tags.iloc[:1000,:]\n",
    "#nodes = tags\n",
    "\n",
    "def labeling(list1, list2 ):\n",
    "    for x1 in list1:\n",
    "        for x2 in list2:\n",
    "            if x1 == x2:\n",
    "                labelsC.append('+')\n",
    "                return\n",
    "    labelsC.append('-')\n",
    "\n",
    "#criar lista de edges (todos os nós para todos os nós)\n",
    "for i1, node1 in nodes.iterrows(): \n",
    "    for i2, node2 in nodes.iterrows(): \n",
    "        if i2 > i1:\n",
    "            sourcesC.append(node1['id'])\n",
    "            targetsC.append(node2['id'])\n",
    "            labeling(node1['tags'],node2['tags'])\n",
    "\n",
    "#ver se para cada par existe uma tag em comum, se sim adiciona como positivo, se nao, e negativo\n",
    "\n",
    "#criar dataframe especial         \n",
    "df = {'Source' : sourcesC, 'Target' : targetsC, 'PositiveNegative' : labelsC}   \n",
    "edges = pd.DataFrame(df)\n",
    "edges['Type'] = 'Undirected'\n",
    "edges.to_csv('../CreatedCSVs/edgesHalfCompleteGB.csv',index=False)\n",
    "\n",
    "#GB: 1.971.105 edges \n",
    "#GB/2: 499.500\n",
    "edges.shape"
   ]
  }
 ],
 "metadata": {
  "kernelspec": {
   "display_name": "Python 3",
   "language": "python",
   "name": "python3"
  },
  "language_info": {
   "codemirror_mode": {
    "name": "ipython",
    "version": 3
   },
   "file_extension": ".py",
   "mimetype": "text/x-python",
   "name": "python",
   "nbconvert_exporter": "python",
   "pygments_lexer": "ipython3",
   "version": "3.6.4"
  }
 },
 "nbformat": 4,
 "nbformat_minor": 2
}
