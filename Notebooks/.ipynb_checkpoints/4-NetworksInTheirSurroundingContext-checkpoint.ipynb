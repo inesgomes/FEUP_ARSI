{
 "cells": [
  {
   "cell_type": "markdown",
   "metadata": {},
   "source": [
    "This notebook was created in the context of 'Chapter 4 - Networks in their surrounding context' and does an analysis of channels of youtube videos.\n",
    "\n",
    "In this example we'll only use the GB dataset."
   ]
  },
  {
   "cell_type": "code",
   "execution_count": 1,
   "metadata": {},
   "outputs": [
    {
     "name": "stdout",
     "output_type": "stream",
     "text": [
      "Nodes uploaded ...\n",
      "Tags uploaded ...\n"
     ]
    }
   ],
   "source": [
    "import pandas as pd\n",
    "\n",
    "#upload nodes\n",
    "nodes = pd.read_csv('../CreatedCSVs/nodesGB.csv', sep=',', decimal='.', header=0)\n",
    "print(\"Nodes uploaded ...\")\n",
    "\n",
    "#upload tags\n",
    "tags = pd.read_csv('../CreatedCSVs/tagsGB.csv', sep=',', decimal='.', header=0)\n",
    "print(\"Tags uploaded ...\")"
   ]
  },
  {
   "cell_type": "markdown",
   "metadata": {},
   "source": [
    "Generate a list of channels. Each channel has attached the list of categories of the videos they pusblish. "
   ]
  },
  {
   "cell_type": "code",
   "execution_count": 2,
   "metadata": {},
   "outputs": [
    {
     "name": "stdout",
     "output_type": "stream",
     "text": [
      "Dictionary Lenght : 1411\n"
     ]
    }
   ],
   "source": [
    "channel = dict()\n",
    "\n",
    "for index, node in nodes.iterrows():\n",
    "    channel_name = node['channel_title']\n",
    "    if channel.get(channel_name, None) == None:\n",
    "        channel[channel_name] = set()\n",
    "    channel[channel_name].add(node['category_id'])\n",
    "    \n",
    "#print\n",
    "print(\"Dictionary Lenght : \" + str(len(channel)))"
   ]
  },
  {
   "cell_type": "markdown",
   "metadata": {},
   "source": [
    "Print to channels-categories.txt the created groups."
   ]
  },
  {
   "cell_type": "code",
   "execution_count": 3,
   "metadata": {},
   "outputs": [],
   "source": [
    "import sys\n",
    "sys.stdout = open('../CreatedCSVs/channels-categories.txt','wt', encoding=\"utf8\")\n",
    "\n",
    "for key, value in channel.items():\n",
    "    print(key, value)\n",
    "    print(\"/n\")"
   ]
  },
  {
   "cell_type": "markdown",
   "metadata": {},
   "source": [
    "Generate groups of channels. Each channel has a list of related channels, that is, channels that share the same categories."
   ]
  },
  {
   "cell_type": "code",
   "execution_count": 4,
   "metadata": {},
   "outputs": [],
   "source": [
    "channel_conn = dict()\n",
    "\n",
    "def comparelists( c1, list1, c2, list2 ):\n",
    "    for x1 in list1:\n",
    "        for x2 in list2:\n",
    "            if x1 == x2:\n",
    "                channel_conn[c1].add(c2)\n",
    "                return\n",
    "\n",
    "for i1, video1 in tags.iterrows(): \n",
    "    if  channel_conn.get(video1['channel'], None) == None:\n",
    "        channel_conn[video1['channel']] = set()\n",
    "    for i2, video2 in tags.iterrows(): \n",
    "        if i2 > i1:             \n",
    "            #se ainda nao estiver na lista desse video\n",
    "            connections = channel_conn.get(video1['channel'], None)\n",
    "            if connections == None or video2['channel'] not in connections:\n",
    "                #o video1 nao esta na lista do video2\n",
    "                connections2 = channel_conn.get(video2['channel'], None)\n",
    "                if connections2 == None or video1['channel'] not in connections2:\n",
    "                    #verificar se existe alguma tag igual\n",
    "                    comparelists(video1['channel'],video1['tags'],video2['channel'],video2['tags'])\n",
    "                \n",
    "print(\"Dictionay lenght : \" +  str(len(channel_conn)))"
   ]
  },
  {
   "cell_type": "markdown",
   "metadata": {},
   "source": [
    "Print to channels.txt the created groups."
   ]
  },
  {
   "cell_type": "code",
   "execution_count": 5,
   "metadata": {},
   "outputs": [],
   "source": [
    "import sys\n",
    "sys.stdout = open('../CreatedCSVs/channels.txt','wt', encoding=\"utf8\")\n",
    "\n",
    "for key, value in channel_conn.items():\n",
    "    print(key, value)\n",
    "    print(\"/n\")"
   ]
  }
 ],
 "metadata": {
  "kernelspec": {
   "display_name": "Python 3",
   "language": "python",
   "name": "python3"
  },
  "language_info": {
   "codemirror_mode": {
    "name": "ipython",
    "version": 3
   },
   "file_extension": ".py",
   "mimetype": "text/x-python",
   "name": "python",
   "nbconvert_exporter": "python",
   "pygments_lexer": "ipython3",
   "version": "3.6.4"
  }
 },
 "nbformat": 4,
 "nbformat_minor": 2
}
